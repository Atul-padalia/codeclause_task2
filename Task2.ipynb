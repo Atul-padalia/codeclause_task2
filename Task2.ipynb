{
 "cells": [
  {
   "cell_type": "markdown",
   "metadata": {},
   "source": [
    "# Project- Alarm Clock with GUI"
   ]
  },
  {
   "cell_type": "markdown",
   "metadata": {},
   "source": [
    "## Project description\n",
    "The project aims to develop an alarm clock application using a graphical user interface (GUI) in Python. The application will provide a user-friendly interface for setting alarms, and triggering alarm sound at the specified time."
   ]
  },
  {
   "cell_type": "markdown",
   "metadata": {},
   "source": [
    "## Importing Libraries "
   ]
  },
  {
   "cell_type": "code",
   "execution_count": 4,
   "metadata": {},
   "outputs": [],
   "source": [
    "from tkinter import *\n",
    "from PIL import Image, ImageTk\n",
    "import datetime\n",
    "import time\n",
    "from pygame import mixer\n",
    "import threading\n",
    "from tkinter import messagebox"
   ]
  },
  {
   "cell_type": "markdown",
   "metadata": {},
   "source": [
    "## GUI Code for Alarm Clock"
   ]
  },
  {
   "cell_type": "code",
   "execution_count": 5,
   "metadata": {},
   "outputs": [],
   "source": [
    "root=Tk()\n",
    "root.title('MY Alarm Clock')\n",
    "root.geometry('530x330')\n",
    "root.maxsize(530,330)\n",
    "root.minsize(530,330)\n",
    "alarmtime=StringVar()\n",
    "msgi=StringVar()\n",
    "#setting the heading for our alarm clock\n",
    "heading=Label(text='Alarm Clock',font=('Times',20),fg='Blue')\n",
    "heading.pack()\n",
    "#setting the picture in our alarm clock\n",
    "img=Image.open('alarmclock.png')\n",
    "img=img.resize((200,200))\n",
    "photo=ImageTk.PhotoImage(img)\n",
    "alarmpic=Label(image=photo)\n",
    "alarmpic.pack(anchor='nw',side=LEFT,fill=X)\n",
    "input_label=Label(text='INPUT TIME:',font=('comic sans',10),pady=50)\n",
    "input_label.pack(anchor='nw',side=LEFT,fill=X)\n",
    "#setting an entry input for user to enter time\n",
    "alarmt=Entry(root,textvariable=alarmtime,font=('comic sans',10),width=6)\n",
    "alarmt.pack(pady=50)\n",
    "msg=Label(text='MESSAGE:',font=('comic sans',10),fg='red')\n",
    "msg.pack(anchor='nw',side=LEFT,fill=X)\n",
    "#setting an entry input for user to enter message \n",
    "msg_input=Entry(root,textvariable=msgi,font=('comic sans',10),width=20)\n",
    "msg_input.pack()\n",
    "#setting a button for alarm clock \n",
    "submit_btn=Button(text='SUBMIT',font=('comic sans',10),bg='light green')\n",
    "submit_btn.pack(pady=30)\n",
    "root.mainloop()\n"
   ]
  },
  {
   "cell_type": "markdown",
   "metadata": {},
   "source": [
    "## Functioning Code for Alarm Clock"
   ]
  },
  {
   "cell_type": "code",
   "execution_count": null,
   "metadata": {},
   "outputs": [],
   "source": [
    "mixer.init()\n",
    "def alarm():\n",
    "    a=alarmtime.get()\n",
    "    current_time=time.strftime(\"%H:%M\")\n",
    "    while(a!=current_time):\n",
    "        current_time=time.strftime(\"%H:%M\")\n",
    "    if a==current_time:\n",
    "        mixer.music.load('alarmsound.mp3')\n",
    "        mixer.music.play()\n",
    "        msg=messagebox.showinfo('Alarm',f'{msgi.get()}')\n",
    "        if msg=='ok':\n",
    "            mixer.music.stop()\n",
    "alarm()\n"
   ]
  }
 ],
 "metadata": {
  "kernelspec": {
   "display_name": "Python 3",
   "language": "python",
   "name": "python3"
  },
  "language_info": {
   "codemirror_mode": {
    "name": "ipython",
    "version": 3
   },
   "file_extension": ".py",
   "mimetype": "text/x-python",
   "name": "python",
   "nbconvert_exporter": "python",
   "pygments_lexer": "ipython3",
   "version": "3.11.3"
  },
  "orig_nbformat": 4
 },
 "nbformat": 4,
 "nbformat_minor": 2
}
